{
 "cells": [
  {
   "cell_type": "markdown",
   "metadata": {
    "id": "intro_cell"
   },
   "source": [
    "# Guide pour l'Appel à une API Hugging Face pour la Segmentation d'Images\n",
    "\n",
    "Bienvenue ! Ce notebook a pour but de vous guider pas à pas dans l'utilisation de l'API d'inférence de Hugging Face pour effectuer de la segmentation d'images. La segmentation d'images consiste à attribuer une étiquette (comme \"cheveux\", \"vêtement\", \"arrière-plan\") à chaque pixel d'une image.\n",
    "\n",
    "Nous allons :\n",
    "1. Comprendre ce qu'est une API et comment s'y connecter.\n",
    "2. Envoyer une image à un modèle de segmentation hébergé sur Hugging Face.\n",
    "3. Récupérer et interpréter les résultats.\n",
    "4. Visualiser les masques de segmentation.\n",
    "5. Étendre cela pour traiter plusieurs images."
   ]
  },
  {
   "cell_type": "markdown",
   "metadata": {
    "id": "imports_intro_cell"
   },
   "source": [
    "## 1. Configuration Initiale et Importations\n",
    "\n",
    "Commençons par importer les bibliothèques Python nécessaires. Nous aurons besoin de :\n",
    "- `os` pour interagir avec le système de fichiers (lister les images).\n",
    "- `requests` pour effectuer des requêtes HTTP vers l'API.\n",
    "- `PIL (Pillow)` pour manipuler les images.\n",
    "- `matplotlib.pyplot` pour afficher les images et les masques.\n",
    "- `numpy` pour la manipulation des tableaux (les images sont des tableaux de pixels).\n",
    "- `tqdm.notebook` pour afficher une barre de progression (utile pour plusieurs images).\n",
    "- `base64` et `io` pour décoder les masques renvoyés par l'API."
   ]
  },
  {
   "cell_type": "code",
   "execution_count": null,
   "metadata": {
    "id": "imports_code_cell"
   },
   "outputs": [],
   "source": [
    "import os\n",
    "import requests\n",
    "from PIL import Image\n",
    "import matplotlib.pyplot as plt\n",
    "import numpy as np\n",
    "from tqdm.notebook import tqdm\n",
    "import base64\n",
    "import io\n",
    "import time\n",
    "\n",
    "# Pause (seconds) entre appels API pour être courtois et éviter le rate limiting\n",
    "PAUSE_BETWEEN_CALLS = 1.5\n"
   ]
  },
  {
   "cell_type": "markdown",
   "metadata": {
    "id": "config_vars_intro_cell"
   },
   "source": [
    "### Variables de Configuration\n",
    "\n",
    "Nous devons définir quelques variables :\n",
    "- `image_dir`: Le chemin vers le dossier contenant vos images. **Assurez-vous de modifier ce chemin si nécessaire.**\n",
    "- `max_images`: Le nombre maximum d'images à traiter (pour ne pas surcharger l'API ou attendre trop longtemps).\n",
    "- `api_token`: Votre jeton d'API Hugging Face. **IMPORTANT : Gardez ce jeton secret !**\n",
    "\n",
    "**Comment obtenir un token API Hugging Face ?**\n",
    "1. Créez un compte sur [huggingface.co](https://huggingface.co/).\n",
    "2. Allez dans votre profil -> Settings -> Access Tokens.\n",
    "3. Créez un nouveau token (par exemple, avec le rôle \"read\").\n",
    "4. Copiez ce token ici."
   ]
  },
  {
   "cell_type": "code",
   "execution_count": null,
   "metadata": {
    "id": "config_vars_code_cell"
   },
   "outputs": [],
   "source": [
    "# Configuration pour le projet Fashion Trend Intelligence\n",
    "import os\n",
    "from dotenv import load_dotenv\n",
    "\n",
    "# Charger les variables d'environnement depuis le fichier .env\n",
    "load_dotenv()\n",
    "\n",
    "# Utiliser la variable d'environnement pour le token API (plus sécurisé)\n",
    "api_token = os.getenv(\"HUGGINGFACE_API_KEY\")\n",
    "\n",
    "# Mise à jour des chemins pour la structure de votre projet\n",
    "image_dir = \"../assets/images\"  # Images stockées dans le dossier assets\n",
    "max_images = 1  # Commençons avec peu d'images\n",
    "\n",
    "# Créer le dossier assets s'il n'existe pas\n",
    "if not os.path.exists(image_dir):\n",
    "    os.makedirs(image_dir)\n",
    "    print(f\"Dossier '{image_dir}' créé. Veuillez y ajouter des images (.jpg ou .png).\")\n",
    "else:\n",
    "    print(f\"Dossier '{image_dir}' existant.\")\n",
    "\n",
    "if not api_token or api_token == \"your_huggingface_api_key_here\":\n",
    "    print(\"\\n⚠️  ATTENTION : Veuillez configurer votre HUGGINGFACE_API_KEY dans le fichier .env\")\n",
    "    print(\"📖 Obtenez votre token depuis : https://huggingface.co/settings/tokens\")\n",
    "else:\n",
    "    print(f\"✅ Token API chargé avec succès (se terminant par : ...{api_token[-8:]})\")"
   ]
  },
  {
   "cell_type": "markdown",
   "metadata": {
    "id": "api_understanding_cell"
   },
   "source": [
    "## 2. Comprendre l'API d'Inférence Hugging Face\n",
    "\n",
    "L'API d'inférence permet d'utiliser des modèles hébergés sur Hugging Face sans avoir à les télécharger ou à gérer l'infrastructure.\n",
    "\n",
    "- **Modèle utilisé** : Nous allons utiliser le modèle `sayeed99/segformer_b3_clothes`, spécialisé dans la segmentation de vêtements et de parties du corps.\n",
    "- **URL de l'API** : L'URL pour un modèle est généralement `https://api-inference.huggingface.co/models/NOM_DU_MODELE`.\n",
    "- **Headers (En-têtes)** : Pour s'authentifier et spécifier le type de contenu, nous envoyons des en-têtes avec notre requête.\n",
    "    - `Authorization`: Contient notre token API (précédé de `Bearer `).\n",
    "    - `Content-Type`: Indique que nous envoyons une image au format JPEG (ou PNG selon le cas)."
   ]
  },
  {
   "cell_type": "code",
   "execution_count": null,
   "metadata": {
    "id": "api_setup_code_cell"
   },
   "outputs": [],
   "source": [
    "API_URL = \"https://router.huggingface.co/hf-inference/models/sayeed99/segformer_b3_clothes\"  # Remplacez ... par le bon endpoint.\n",
    "headers = {\n",
    "    \"Authorization\": f\"Bearer {api_token}\"\n",
    "    # Le \"Content-Type\" sera ajouté dynamiquement lors de l'envoi de l'image\n",
    "}\n",
    "\n",
    "# Import des fonctions utilitaires\n",
    "from oc_p2_fashion_trend_intelligence.utils.image_utils import (\n",
    "    validate_single_image,\n",
    "    get_image_dimensions,\n",
    "    decode_base64_mask,\n",
    "    create_masks,\n",
    "    get_content_type\n",
    ")"
   ]
  },
  {
   "cell_type": "markdown",
   "metadata": {
    "id": "helper_functions_intro_cell"
   },
   "source": [
    "## 3. Configuration et Validation des Images\n",
    "\n",
    "Cette section regroupe **toutes les constantes configurables** du notebook pour faciliter la personnalisation :\n",
    "\n",
    "**📝 Configuration modifiable :**\n",
    "- `ALLOWED_EXTENSIONS`: Extensions d'images supportées \n",
    "- `CLASS_MAPPING`: Classes spécifiques au modèle `segformer_b3_clothes`\n",
    "\n",
    "**🔍 Validation automatique :**\n",
    "- Listing des images dans le dossier défini\n",
    "- Validation du format et de la taille des images\n",
    "\n",
    "**🛠️ Fonctions utilitaires (importées depuis `image_utils`) :**\n",
    "- `get_image_dimensions`: Récupérer les dimensions d'une image\n",
    "- `decode_base64_mask`: Décoder un masque base64 \n",
    "- `create_masks`: Combiner les masques de segmentation\n",
    "\n",
    "💡 **Astuce** : Modifiez `ALLOWED_EXTENSIONS` si vous voulez supporter d'autres formats d'image !"
   ]
  },
  {
   "cell_type": "code",
   "execution_count": null,
   "metadata": {
    "id": "helper_functions_code_cell"
   },
   "outputs": [],
   "source": [
    "# =============================================================================\n",
    "# CONFIGURATION DU NOTEBOOK - MODIFIEZ SELON VOS BESOINS\n",
    "# =============================================================================\n",
    "\n",
    "# Extensions d'images supportées\n",
    "ALLOWED_EXTENSIONS = (\".png\", \".jpg\", \".jpeg\", \".bmp\", \".webp\")\n",
    "\n",
    "# Configuration spécifique au modèle segformer_b3_clothes\n",
    "CLASS_MAPPING = {\n",
    "    \"Background\": 0,\n",
    "    \"Hat\": 1,\n",
    "    \"Hair\": 2,\n",
    "    \"Sunglasses\": 3,\n",
    "    \"Upper-clothes\": 4,\n",
    "    \"Skirt\": 5,\n",
    "    \"Pants\": 6,\n",
    "    \"Dress\": 7,\n",
    "    \"Belt\": 8,\n",
    "    \"Left-shoe\": 9,\n",
    "    \"Right-shoe\": 10,\n",
    "    \"Face\": 11,\n",
    "    \"Left-leg\": 12,\n",
    "    \"Right-leg\": 13,\n",
    "    \"Left-arm\": 14,\n",
    "    \"Right-arm\": 15,\n",
    "    \"Bag\": 16,\n",
    "    \"Scarf\": 17\n",
    "}\n",
    "\n",
    "# =============================================================================\n",
    "# LISTING ET VALIDATION DES IMAGES\n",
    "# =============================================================================\n",
    "\n",
    "# Lister les chemins des images à traiter\n",
    "image_paths = [\n",
    "    os.path.join(image_dir, filename) \n",
    "    for filename in os.listdir(image_dir) \n",
    "    if filename.endswith(ALLOWED_EXTENSIONS)\n",
    "]\n",
    "\n",
    "# Valider les images (format, taille, etc.)\n",
    "valid_images = [img_path for img_path in image_paths if validate_single_image(img_path, max_size=(1024, 1024))]\n",
    "\n",
    "if not valid_images:\n",
    "    print(f\"Aucune image valide trouvée dans '{image_dir}'. Veuillez y ajouter des images.\")\n",
    "else:\n",
    "    print(f\"{len(valid_images)} image(s) valide(s) sur {len(image_paths)} à traiter.\")\n",
    "    \n",
    "# Les fonctions utilitaires (get_image_dimensions, decode_base64_mask, create_masks) \n",
    "# sont maintenant disponibles via l'import depuis image_utils"
   ]
  },
  {
   "cell_type": "markdown",
   "metadata": {
    "id": "single_image_intro_cell"
   },
   "source": [
    "## 4. Segmentation d'une Seule Image\n",
    "\n",
    "Avant de traiter toutes les images, concentrons-nous sur une seule pour bien comprendre le processus.\n",
    "\n",
    "Étapes :\n",
    "1.  Choisir une image.\n",
    "2.  Ouvrir l'image en mode binaire (`\"rb\"`) et lire son contenu (`data`).\n",
    "3.  Déterminer le `Content-Type` (par exemple, `\"image/jpeg\"` ou `\"image/png\"`).\n",
    "4.  Envoyer la requête POST à l'API avec `requests.post()` en passant l'URL, les headers et les données.\n",
    "5.  Vérifier le code de statut de la réponse. Une erreur sera levée si le code n'est pas 2xx (succès) grâce à `response.raise_for_status()`.\n",
    "6.  Convertir la réponse JSON en un dictionnaire Python avec `response.json()`.\n",
    "7.  Utiliser nos fonctions `get_image_dimensions` et `create_masks` pour obtenir le masque final.\n",
    "8.  Afficher l'image originale et le masque segmenté."
   ]
  },
  {
   "cell_type": "code",
   "execution_count": null,
   "metadata": {
    "id": "single_image_code_cell"
   },
   "outputs": [],
   "source": [
    "if image_paths:\n",
    "    single_image_path = image_paths[0]  # Prenons la première image de notre liste\n",
    "    print(f\"Traitement de l'image : {single_image_path}\")\n",
    "\n",
    "    try:\n",
    "        with open(single_image_path, \"rb\") as image_file:\n",
    "            image_data = image_file.read()\n",
    "\n",
    "        # Déterminer dynamiquement le content-type pour tous les formats supportés\n",
    "        headers[\"Content-Type\"] = get_content_type(single_image_path, ALLOWED_EXTENSIONS)\n",
    "\n",
    "        # Maintenant, utilisé l'API huggingface\n",
    "        # ainsi que les fonctions données plus haut pour ségmenter vos images.\n",
    "        response = requests.post(API_URL, headers=headers, data=image_data)\n",
    "\n",
    "        if response.status_code == 200:\n",
    "            print(\"✅ Segmentation réussie !\")\n",
    "            # Traitez la réponse ici (par exemple, enregistrez le résultat)\n",
    "            segmentation_result = response.json()\n",
    "            \n",
    "            image_size = get_image_dimensions(single_image_path)\n",
    "            print(f\"📏 Dimensions de l'image : {image_size}\")\n",
    "            mask = create_masks(segmentation_result, image_size[0], image_size[1], CLASS_MAPPING)\n",
    "\n",
    "            # Préparation de la visualisation\n",
    "            original = Image.open(single_image_path).convert(\"RGB\")\n",
    "\n",
    "            # Palette simple: générer des couleurs reproductibles pour chaque classe\n",
    "            rng = np.random.default_rng(42)\n",
    "            num_classes = max(CLASS_MAPPING.values()) + 1\n",
    "            palette = np.zeros((num_classes, 3), dtype=np.uint8)\n",
    "            palette[0] = [0, 0, 0]  # Background\n",
    "            for name, cid in CLASS_MAPPING.items():\n",
    "                if cid != 0:\n",
    "                    palette[cid] = rng.integers(0, 255, size=3)\n",
    "\n",
    "            color_mask = palette[mask]\n",
    "\n",
    "            # Histogramme des classes présentes\n",
    "            unique, counts = np.unique(mask, return_counts=True)\n",
    "            class_counts = dict(zip(unique.tolist(), counts.tolist()))\n",
    "\n",
    "            # Affichage (2 colonnes: Original, Masque colorisé)\n",
    "            fig, axes = plt.subplots(1, 2, figsize=(10, 5))\n",
    "            axes[0].imshow(original)\n",
    "            axes[0].set_title(\"Image Originale\")\n",
    "            axes[0].axis('off')\n",
    "\n",
    "            axes[1].imshow(color_mask)\n",
    "            axes[1].set_title(\"Masque Colorisé\")\n",
    "            axes[1].axis('off')\n",
    "            plt.tight_layout()\n",
    "            plt.show()\n",
    "\n",
    "            # Afficher un résumé des classes détectées\n",
    "            readable_counts = { [k for k,v in CLASS_MAPPING.items() if v==cid][0]: cnt for cid, cnt in class_counts.items() }\n",
    "            print(\"📊 Pixels par classe (top 10):\")\n",
    "            for cls_name, cnt in sorted(readable_counts.items(), key=lambda x: -x[1])[:10]:\n",
    "                pct = cnt / mask.size * 100\n",
    "                print(f\" - {cls_name:<15}: {cnt:>6} px ({pct:5.2f}%)\")\n",
    "        else:\n",
    "            print(f\"❌ Erreur lors de la segmentation : {response.status_code}\")\n",
    "            print(f\"📝 Détails : {response.text}\")\n",
    "\n",
    "    except Exception as e:\n",
    "        print(f\"Une erreur est survenue : {e}\")\n",
    "else:\n",
    "    print(\"Aucune image à traiter. Vérifiez la configuration de 'image_dir' et 'max_images'.\")"
   ]
  },
  {
   "cell_type": "markdown",
   "metadata": {
    "id": "batch_intro_cell"
   },
   "source": [
    "## 5. Segmentation de Plusieurs Images (Batch)\n",
    "\n",
    "Maintenant que nous savons comment traiter une image, nous pouvons créer une fonction pour en traiter plusieurs.\n",
    "Cette fonction va boucler sur la liste `image_paths` et appliquer la logique de segmentation à chaque image.\n",
    "Nous utiliserons `tqdm` pour avoir une barre de progression."
   ]
  },
  {
   "cell_type": "code",
   "execution_count": null,
   "metadata": {
    "id": "batch_code_cell"
   },
   "outputs": [],
   "source": [
    "def segment_images_batch(list_of_image_paths):\n",
    "    \"\"\"\n",
    "    Segmente une liste d'images en utilisant l'API Hugging Face.\n",
    "\n",
    "    Args:\n",
    "        list_of_image_paths (list): Liste des chemins vers les images.\n",
    "\n",
    "    Returns:\n",
    "        list: Liste des masques de segmentation (tableaux NumPy).\n",
    "              Contient None si une image n'a pas pu être traitée.\n",
    "    \"\"\"\n",
    "    batch_segmentations = []\n",
    "\n",
    "    # N'oubliez pas de mettre une pause entre chaque appel API !\n",
    "    for img_path in tqdm(list_of_image_paths, desc=\"Segmentation des images en batch\"):\n",
    "        try:\n",
    "            with open(img_path, \"rb\") as image_file:\n",
    "                image_data = image_file.read()\n",
    "\n",
    "            headers[\"Content-Type\"] = \"image/png\"\n",
    "            response = requests.post(API_URL, headers=headers, data=image_data)\n",
    "\n",
    "            if response.status_code == 200:\n",
    "                segmentation_result = response.json()\n",
    "                width, height = get_image_dimensions(img_path)\n",
    "                mask = create_masks(segmentation_result, width, height, CLASS_MAPPING)\n",
    "                batch_segmentations.append(mask)\n",
    "            else:\n",
    "                print(f\"❌ Erreur lors de la segmentation de {img_path} : {response.status_code}\")\n",
    "                batch_segmentations.append(None)\n",
    "\n",
    "        except Exception as e:\n",
    "            print(f\"Une erreur est survenue avec {img_path} : {e}\")\n",
    "            batch_segmentations.append(None)\n",
    "\n",
    "        # Pause entre les appels API\n",
    "        time.sleep(PAUSE_BETWEEN_CALLS)\n",
    "\n",
    "    return batch_segmentations\n",
    "\n",
    "# Appeler la fonction pour segmenter les images listées dans image_paths\n",
    "if image_paths:\n",
    "    print(f\"\\nTraitement de {len(image_paths)} image(s) en batch...\")\n",
    "    batch_seg_results = segment_images_batch(image_paths)\n",
    "    print(\"Traitement en batch terminé.\")\n",
    "else:\n",
    "    batch_seg_results = []\n",
    "    print(\"Aucune image à traiter en batch.\")"
   ]
  },
  {
   "cell_type": "markdown",
   "metadata": {
    "id": "display_batch_intro_cell"
   },
   "source": [
    "## 6. Affichage des Résultats en Batch\n",
    "\n",
    "Nous allons maintenant créer une fonction pour afficher les images originales et leurs segmentations correspondantes côte à côte, dans une grille."
   ]
  },
  {
   "cell_type": "code",
   "execution_count": null,
   "metadata": {
    "id": "display_batch_code_cell"
   },
   "outputs": [],
   "source": [
    "def display_segmented_images_batch(original_image_paths, segmentation_masks):\n",
    "    \"\"\"\n",
    "    Affiche les images originales et leurs masques segmentés.\n",
    "\n",
    "    Args:\n",
    "        original_image_paths (list): Liste des chemins des images originales.\n",
    "        segmentation_masks (list): Liste des masques segmentés (NumPy arrays).\n",
    "    \"\"\"\n",
    "    # Matplotlib, ça vous parle ?\n",
    "    # Alors... au travail ! 😉\n",
    "\n",
    "# Afficher les résultats du batch\n",
    "if batch_seg_results:\n",
    "    display_segmented_images_batch(image_paths, batch_seg_results)\n",
    "else:\n",
    "    print(\"Aucun résultat de segmentation à afficher.\")"
   ]
  },
  {
   "cell_type": "markdown",
   "metadata": {
    "id": "conclusion_cell"
   },
   "source": [
    "## Conclusion et Prochaines Étapes\n",
    "\n",
    "Félicitations ! Vous avez appris à :\n",
    "- Configurer les appels à l'API d'inférence Hugging Face.\n",
    "- Envoyer des images pour la segmentation.\n",
    "- Interpréter les résultats (avec l'aide des fonctions fournies).\n",
    "- Visualiser les segmentations.\n",
    "\n",
    "Pistes d'amélioration ou d'exploration :\n",
    "- **Gestion d'erreurs plus fine** : Implémenter des tentatives multiples (retry) en cas d'échec de l'API (par exemple, si le modèle est en cours de chargement).\n",
    "- **Appels asynchrones** : Pour un grand nombre d'images, des appels asynchrones (avec `asyncio` et `aiohttp`) seraient beaucoup plus rapides.\n",
    "- **Autres modèles** : Explorer d'autres modèles de segmentation ou d'autres tâches sur Hugging Face Hub.\n",
    "\n",
    "N'hésitez pas à modifier le code, à tester avec vos propres images et à explorer davantage !\n",
    "\n",
    "**_Note_** : Si vous aimez ce modèle, n'hésitez pas à le [télécharger](https://huggingface.co/sayeed99/segformer_b3_clothes) et jouer avec directement sur votre machine !"
   ]
  },
  {
   "cell_type": "code",
   "execution_count": null,
   "metadata": {
    "id": "TV_ctytI7EQn"
   },
   "outputs": [],
   "source": []
  }
 ],
 "metadata": {
  "colab": {
   "provenance": [],
   "toc_visible": true
  },
  "kernelspec": {
   "display_name": "oc-p2-fashion-trend-intelligence-py3.12",
   "language": "python",
   "name": "python3"
  },
  "language_info": {
   "codemirror_mode": {
    "name": "ipython",
    "version": 3
   },
   "file_extension": ".py",
   "mimetype": "text/x-python",
   "name": "python",
   "nbconvert_exporter": "python",
   "pygments_lexer": "ipython3",
   "version": "3.12.2"
  }
 },
 "nbformat": 4,
 "nbformat_minor": 4
}
